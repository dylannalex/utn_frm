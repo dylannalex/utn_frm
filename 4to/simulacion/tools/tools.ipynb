{
 "cells": [
  {
   "attachments": {},
   "cell_type": "markdown",
   "metadata": {},
   "source": [
    "# Prueba de Hipotesis para Comprobar Aletoriedad\n",
    "\n",
    "## Test Poker\n",
    "\n",
    "Dada la secuencia de números $\\mu_1, \\mu_2, \\dots, \\mu_n$ donde $\\mu_i \\in [0, 1)$, nos interesa separar los $d$ dígitos de $\\mu_i$ en columnas distintas para poder evaluar la cadena en Excel. Por ejemplo, si tenemos la cadena:\n",
    "\n",
    "$$\n",
    "\\hat{x} = \\{0.01, 0.52, 0.86, 0.13, 0.3\\}\n",
    "$$\n",
    "\n",
    "Buscamos conseguir la siguiente tabla:\n",
    "\n",
    "|   $\\mu$  | x1 | x2 |\n",
    "|:----:|:--:|:--:|\n",
    "| 0.01 | 0  | 1  |\n",
    "| 0.52 | 5  | 2  |\n",
    "| 0.86 | 8  | 6  |\n",
    "| 0.13 | 1  | 3  |\n",
    "| 0.30 | 3  | 0  |\n",
    "\n",
    "La función `separate_digits()` permite hacerlo:"
   ]
  },
  {
   "cell_type": "code",
   "execution_count": 13,
   "metadata": {},
   "outputs": [],
   "source": [
    "from typing import Union\n",
    "\n",
    "def separate_digits(x_list: list[Union[float, str]]):\n",
    "    length = max([len(str(x)) for x in x_list]) - 2\n",
    "    for x in x_list:\n",
    "        digits = str(x)[2:]\n",
    "        while len(digits) < length:\n",
    "            digits += \"0\"\n",
    "        for digit in digits:\n",
    "            print(digit, end=\" \")\n",
    "        print()"
   ]
  },
  {
   "attachments": {},
   "cell_type": "markdown",
   "metadata": {},
   "source": [
    "Para nuestro ejemplo $\\hat{x} = \\{0.01, 0.52, 0.86, 0.13, 0.3\\}$:"
   ]
  },
  {
   "cell_type": "code",
   "execution_count": 15,
   "metadata": {},
   "outputs": [
    {
     "name": "stdout",
     "output_type": "stream",
     "text": [
      "0 1 \n",
      "5 2 \n",
      "8 6 \n",
      "1 3 \n",
      "3 0 \n"
     ]
    }
   ],
   "source": [
    "separate_digits([0.01, 0.52, 0.86, 0.13, 0.3])"
   ]
  }
 ],
 "metadata": {
  "kernelspec": {
   "display_name": "Python 3",
   "language": "python",
   "name": "python3"
  },
  "language_info": {
   "codemirror_mode": {
    "name": "ipython",
    "version": 3
   },
   "file_extension": ".py",
   "mimetype": "text/x-python",
   "name": "python",
   "nbconvert_exporter": "python",
   "pygments_lexer": "ipython3",
   "version": "3.11.2"
  },
  "orig_nbformat": 4
 },
 "nbformat": 4,
 "nbformat_minor": 2
}
