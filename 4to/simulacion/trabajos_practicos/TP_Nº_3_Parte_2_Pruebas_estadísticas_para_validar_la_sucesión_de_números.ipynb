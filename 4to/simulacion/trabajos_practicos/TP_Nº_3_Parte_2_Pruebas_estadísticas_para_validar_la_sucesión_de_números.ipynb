{
  "cells": [
    {
      "attachments": {},
      "cell_type": "markdown",
      "metadata": {
        "id": "fdKiQEfMkegk"
      },
      "source": [
        "# **Trabajo Práctico Nº 3 Parte 2: Pruebas estadísticas para validar la sucesión de números pseudoaleatorios**\n",
        "Simulación - Ingeniería en Sistemas de Información 2023"
      ]
    },
    {
      "attachments": {},
      "cell_type": "markdown",
      "metadata": {
        "id": "NkpKFw1nk0Hq"
      },
      "source": [
        "**Metodología de trabajo**\n",
        "\n",
        "Antes de empezar a trabajar, debe crear una copia de este cuaderno de la siguiente manera:\n",
        "\n",
        "*  Click en File (Archivo)\n",
        "*  Save a Copy in Drive (Guardar una copia en Drive)\n",
        "*  Renombre el archivo con el el/los apellido/s del grupo: Apellido1_Apellido2_Apellido3. Ipynb\n",
        "\n",
        "Cada actividad debe desarrollarse en forma  individual pero se fomenta el intercambio de opiniones y trabajo colaborativo en clase"
      ]
    },
    {
      "attachments": {},
      "cell_type": "markdown",
      "metadata": {
        "id": "wBo1ZVB_fmkS"
      },
      "source": [
        "# Ejercicio 1\n",
        "\n",
        "El siguiente código contiene el algoritmo incompleto de la prueba Chi Cuadrada. Complete el mismo en todos los lugares donde aparezca ???."
      ]
    },
    {
      "cell_type": "code",
      "execution_count": 39,
      "metadata": {
        "id": "9rGNYnyklXF5"
      },
      "outputs": [],
      "source": [
        "import statistics\n",
        "\n",
        "def prueba_chi2(sucesion: list[float], chi2: float) -> None:\n",
        "    chi2_suma = 0\n",
        "\n",
        "    # Calcula media esperada a partir de la sucesion de números observados\n",
        "    frec_esperada= statistics.mean(sucesion)\n",
        "    print(\"La frecuencia esperada es \", frec_esperada)\n",
        "    \n",
        "    # Determina el valor chi cuadrada a partir de cada elemento de la sucesión de números observados y la frecuencia esperada\n",
        "    for elemento in sucesion:\n",
        "        chi2_suma = chi2_suma + (((elemento-frec_esperada)**2)/frec_esperada)\n",
        "\n",
        "    # Criterio de aceptación\n",
        "    if chi2_suma < chi2:\n",
        "        print(\"La hipotesis se acepta. El estadístico calculado a partir de la observación es \",  chi2_suma ,\" < que el estadístico de la tabla: \", chi2)\n",
        "    else: \n",
        "        print(\"La hipotesis se rechaza. El estadístico calculado a partir de la observación es \", chi2_suma ,\" > que el estadístico de la tabla: \", chi2)\n",
        "    \n",
        "\n",
        "def main() -> None:\n",
        "    sucesion1=[]\n",
        "\n",
        "    i = int(input(\"Ingrese la cantidad de intervalos para aplicar la prueba de la Chi Cuadrada: \"))\n",
        "\n",
        "    for _ in range(i):\n",
        "            cantidad=int(input(\"Ingrese la cantidad de números observados en cada intervalo:\"))\n",
        "            sucesion1.append(cantidad)\n",
        "\n",
        "    chi2 = float(input(\"Ingrese el valor del estadístico de la Chi Cuadrada: \"))\n",
        "\n",
        "    prueba_chi2(sucesion1, chi2)  \n",
        " \n",
        "if __name__ == \"__main__\":\n",
        "    main()"
      ]
    },
    {
      "attachments": {},
      "cell_type": "markdown",
      "metadata": {
        "id": "BktMVnzSftII"
      },
      "source": [
        "## Ejercicio 2\n",
        "\n",
        "Escriba el código para desarrollar el algoritmo de la prueba de Kolmogorov Smirnov.\n",
        "\n",
        "> a.\tEl usuario debe indicar la cantidad de números aleatorios a la que se someterá la prueba.\n",
        "\n",
        "> b.\tEl usuario debe ingresar el valor del estadístico de la tabla\n",
        "\n",
        "Se pueden generar los números aleatorios, sin necesidad de ingresar los mismos. Para ello incorpore el módulo random de la librería de Python (import random).\n",
        "\n",
        "Indicar si se acepta o rechaza la prueba.\n",
        "\n"
      ]
    },
    {
      "attachments": {},
      "cell_type": "markdown",
      "metadata": {
        "id": "pnqWNhG0bqlJ"
      },
      "source": [
        "## Respuesta"
      ]
    },
    {
      "attachments": {},
      "cell_type": "markdown",
      "metadata": {
        "id": "9wg6dYZbbqlJ"
      },
      "source": [
        "### Imprimir expresiones matemáticas en pantalla\n",
        "\n",
        "A continuación se muestra la función `print_latex()` la cual se utilizará en los ejercicios 2 y 3 para imprimir expresiones matemáticas con [LaTeX](https://es.wikipedia.org/wiki/LaTeX)."
      ]
    },
    {
      "cell_type": "code",
      "execution_count": 40,
      "metadata": {
        "id": "wqShfs7kbqlK"
      },
      "outputs": [],
      "source": [
        "from IPython.display import display, Markdown\n",
        "\n",
        "def print_latex(text: str) -> None:\n",
        "    display(Markdown(text))"
      ]
    },
    {
      "attachments": {},
      "cell_type": "markdown",
      "metadata": {
        "id": "DPrhepkpbqlM"
      },
      "source": [
        "### Prueba de Kolmogorov-Smirnov\n",
        "\n",
        "El código para desarrollar el algoritmo de la prueba de Kolmogorov Smirnov es el siguiente."
      ]
    },
    {
      "cell_type": "code",
      "execution_count": 41,
      "metadata": {
        "id": "C1PfyDqEfr45"
      },
      "outputs": [],
      "source": [
        "import numpy as np\n",
        "from matplotlib import pyplot as plt\n",
        "\n",
        "\n",
        "def _kolmogorov_distance(sorted_random_numbers: np.ndarray) -> float:\n",
        "    n = len(sorted_random_numbers)\n",
        "    d = np.max(np.arange(1, n+1)/n - sorted_random_numbers)\n",
        "    return d\n",
        "\n",
        "def _kolmogorov_graph(sorted_random_numbers: np.ndarray) -> None:\n",
        "    n = len(sorted_random_numbers)\n",
        "    line = np.arange(1, n+1) / n \n",
        "    _, ax = plt.subplots(figsize=(10, 5))\n",
        "    line1, = ax.plot(sorted_random_numbers, label=\"Número Aleatorio ($\\mu_i$)\")\n",
        "    line2, = ax.plot(line, label=r\"Frecuencia Esperada ($\\frac{i}{n}$)\")\n",
        "    ax.legend(handles=[line1, line2])\n",
        "\n",
        "def kolmogorov_test(random_numbers: np.ndarray, statistic: float) -> None:\n",
        "    # Compute kolmogorov distance\n",
        "    random_numbers.sort()\n",
        "    distance = _kolmogorov_distance(np.sort(random_numbers))\n",
        "\n",
        "    # Print results\n",
        "    distance_text = r\"$max|\\frac{i}{n} - \\mu_i|\" + f\" = {distance}$\"\n",
        "    statistic_text = f\"$D(\\\\alpha, n={len(random_numbers)}) = {statistic}$\"\n",
        "\n",
        "    if distance < statistic:\n",
        "        print_latex(f\"{distance_text} < {statistic_text} $\\\\Rightarrow$ La hipótesis se acepta.\")\n",
        "    else:\n",
        "        print_latex(f\"{distance_text} > {statistic_text} $\\\\Rightarrow$ La hipótesis se rechaza.\")\n",
        "\n",
        "    # Show plot\n",
        "    _kolmogorov_graph(random_numbers)"
      ]
    },
    {
      "attachments": {},
      "cell_type": "markdown",
      "metadata": {
        "id": "YB2FvcgWbqlM"
      },
      "source": [
        "#### Explicación del código\n",
        "- `_kolmogorov_distance()` calcula el valor $max|\\frac{i}{n} - \\mu_i|$ para una secuencia de números. Recibe como parámetro la secuencia de números aleatorios en orden creciente (debe estar contenida en un arreglo de [*NumPy*](https://numpy.org/doc/stable/user/index.html#user)).\n",
        "- `_kolmogorov_graph()` grafica la secuencia de números. El eje-*y* representa el valor del número aleatorio (es decir, $x_i$), y el eje-*x* representa la posición del número aleatorio (es decir, el índice $i$). Recibe como parámetro la seucencia de números aleatorios en orden creciente contenido en un arreglo.\n",
        "- `kolmogorov_test()` recibe una secuencia de números aleatorios (como un arreglo) y el valor del estadístico, y muestra en pantalla si la secuencia pasa el test de Kolmogorov.\n",
        "\n",
        "**Nota:** Para ejecutar el script debe llamarse a la función `kolmogorov_test()`. Las funciones `_kolmogorov_distance()` y `_kolmogorov_graph()` estan pensadas unicamente para el funcionamiento interno del script, y no deberían ser ejecutadas por el usuario (por ese motivo, el nombre de estas funciones comienza con un [guión bajo](https://stackoverflow.com/questions/1547145/defining-private-module-functions-in-python)).\n",
        "\n",
        "#### Resolución de un ejercicio\n",
        "\n",
        "Comprobemos el funcionamiento del algoritmo con el siguiente ejercicio.\n",
        "\n",
        "**Enunciado:**\n",
        "\n",
        "Realice la prueba de Kolmogorov Smirnov (K-S) para los siguientes valores e indique si los mismos pasan la prueba de aleatoriedad.\n",
        "\n",
        "$\\alpha = 0.1$\n",
        "\n",
        "| 0.45 | 0.43 | 0.86 | 0.10 | 0.26 | 0.06 | 0.38 | 0.73 | 0.42 | 0.87 |\n",
        "|------|------|------|------|------|------|------|------|------|------|\n",
        "| 0.15 | 0.97 | 0.59 | 0.82 | 0.39 | 0.51 | 0.47 | 0.04 | 0.65 | 0.16 |\n",
        "\n",
        "**Respuesta:**\n",
        "\n",
        "\n",
        "|  i |  $\\frac{i}{n}$ |   $\\mu$  | $D$ |\n",
        "|:--:|:----:|:----:|:-----------:|\n",
        "| 1  | 0.05 | 0.04 | 0.01        |\n",
        "| 2  | 0.1  | 0.06 | 0.04        |\n",
        "| 3  | 0.15 | 0.1  | 0.05        |\n",
        "| 4  | 0.2  | 0.15 | 0.05        |\n",
        "| 5  | 0.25 | 0.16 | 0.09        |\n",
        "| 6  | 0.3  | 0.26 | 0.04        |\n",
        "| 7  | 0.35 | 0.38 | 0.03        |\n",
        "| 8  | 0.4  | 0.39 | 0.01        |\n",
        "| 9  | 0.45 | 0.42 | 0.03        |\n",
        "| 10 | 0.5  | 0.43 | 0.07        |\n",
        "| 11 | 0.55 | 0.45 | 0.1         |\n",
        "| 12 | 0.6  | 0.47 | 0.13        |\n",
        "| 13 | 0.65 | 0.51 | 0.14        |\n",
        "| 14 | 0.7  | 0.59 | 0.11        |\n",
        "| 15 | 0.75 | 0.65 | 0.1         |\n",
        "| 16 | 0.8  | 0.73 | 0.07        |\n",
        "| 17 | 0.85 | 0.82 | 0.03        |\n",
        "| 18 | 0.9  | 0.86 | 0.04        |\n",
        "| 19 | 0.95 | 0.87 | 0.08        |\n",
        "| 20 | 1    | 0.97 | 0.03        |\n",
        "\n",
        "Como $max|\\frac{i}{n} - \\mu_i| = 0.14 < D(\\alpha = 0.1, n=16) = 0.26474$, aceptamos la hipotesis.\n",
        "\n",
        "**Código:**\n",
        "A continuación, utilizamos el código presentado anteriormente para realizar el ejercicio. Para ello, debemos llamar a la funcion `kolmogorov_test()` con los datos requeridos: el arreglo con números aleatorios y el valor del estadístico."
      ]
    },
    {
      "cell_type": "code",
      "execution_count": 42,
      "metadata": {
        "colab": {
          "base_uri": "https://localhost:8080/",
          "height": 479
        },
        "id": "WIVeKyt9bqlN",
        "outputId": "2586cdb0-bd82-4001-de11-e022051de653"
      },
      "outputs": [
        {
          "data": {
            "text/markdown": [
              "$max|\\frac{i}{n} - \\mu_i| = 0.14$ < $D(\\alpha, n=20) = 0.26474$ $\\Rightarrow$ La hipótesis se acepta."
            ],
            "text/plain": [
              "<IPython.core.display.Markdown object>"
            ]
          },
          "metadata": {},
          "output_type": "display_data"
        },
        {
          "data": {
            "image/png": "[encoded data removed]",
            "text/plain": [
              "<Figure size 1000x500 with 1 Axes>"
            ]
          },
          "metadata": {},
          "output_type": "display_data"
        }
      ],
      "source": [
        "arr = np.array([0.45, 0.43, 0.86, 0.1, 0.26, 0.06, 0.38, 0.73, 0.42, 0.87, 0.15, 0.97, 0.59, 0.82, 0.39, 0.51, 0.47, 0.04, 0.65, 0.16])\n",
        "statistic = 0.26474\n",
        "kolmogorov_test(arr, statistic)"
      ]
    },
    {
      "attachments": {},
      "cell_type": "markdown",
      "metadata": {
        "id": "ehu9dfQwbqlN"
      },
      "source": [
        "### Menú para la prueba de Kolmogorov-Smirnov\n",
        "\n",
        "Como se pide en el ejercicio, se desarrolló un menú para que el usuario pueda indicar la cantidad de números aleatorios que se someterá a la prueba (el usuario no ingresará los números aleatorios, se generará la secuencia automáticamente) e ingrese el valor del estadístico de la tabla. \n",
        "\n",
        "**Nota:** para el correcto funcionamiento del código, se deben haber ejecutado las celdas que contienen la funciones `print_latex()` y `kolmogorov_test()`."
      ]
    },
    {
      "cell_type": "code",
      "execution_count": 43,
      "metadata": {
        "colab": {
          "base_uri": "https://localhost:8080/",
          "height": 635
        },
        "id": "wAamL9a0bqlO",
        "outputId": "2f428faa-deb8-4517-dbfb-3715c13f63af"
      },
      "outputs": [
        {
          "name": "stdout",
          "output_type": "stream",
          "text": [
            "Ingrese la cantidad de números aleatorios: 20\n",
            "Ingrese la semilla: 44\n",
            "Ingrese el valor del estadístico de la tabla: 10\n",
            "Los números aleatorios generados son:\n",
            "[0.12256551 0.25811307 0.40577073 0.96918395 0.16231712 0.85729367\n",
            " 0.16304527 0.33796195 0.67772282 0.61653417 0.95493616 0.41140078\n",
            " 0.93964181 0.92674869 0.71557174 0.01946211 0.7973993  0.90075519\n",
            " 0.52386282 0.19716269]\n",
            "\n"
          ]
        },
        {
          "data": {
            "text/markdown": [
              "$max|\\frac{i}{n} - \\mu_i| = 0.05283731109151646$ < $D(\\alpha, n=20) = 10.0$ $\\Rightarrow$ La hipótesis se acepta."
            ],
            "text/plain": [
              "<IPython.core.display.Markdown object>"
            ]
          },
          "metadata": {},
          "output_type": "display_data"
        },
        {
          "data": {
            "image/png": "[encoded data removed]",
            "text/plain": [
              "<Figure size 1000x500 with 1 Axes>"
            ]
          },
          "metadata": {},
          "output_type": "display_data"
        }
      ],
      "source": [
        "def kolmogorov_test_menu() -> None:\n",
        "    # Get random numbers\n",
        "    n = int(input(\"Ingrese la cantidad de números aleatorios: \"))\n",
        "    seed = int(input(\"Ingrese la semilla: \"))\n",
        "    rng = np.random.default_rng(seed=seed)\n",
        "    random_numbers = rng.random(n)\n",
        "\n",
        "    # Get statistic\n",
        "    statistic = float(input(\"Ingrese el valor del estadístico de la tabla: \"))\n",
        "\n",
        "    # Run test\n",
        "    print(f\"Los números aleatorios generados son:\\n{random_numbers}\", end=\"\\n\\n\")\n",
        "    kolmogorov_test(random_numbers, statistic)\n",
        "\n",
        "if __name__ == \"__main__\":\n",
        "    kolmogorov_test_menu()"
      ]
    },
    {
      "attachments": {},
      "cell_type": "markdown",
      "metadata": {
        "id": "qrZWumaIbqlO"
      },
      "source": [
        "# Ejercicio 3\n",
        "\n",
        "Escriba el código para desarrollar el algoritmo del test de rachas.\n",
        "\n",
        "> a.\tEl usuario debe indicar la cantidad de números aleatorios.\n",
        "\n",
        "> b.\tEl usuario debe indicar el valor del estadístico de la tabla Normal.\n",
        "\n",
        "A partir de los datos ingresados, se generan los números aleatorios, se cuentan los números que están por debajo y por encima de la media, el valor de racha, media, desviación estándar y se obtiene el estadístico con los valores observados.\n",
        "\n",
        "Indicar si se acepta o rechaza la prueba.\n"
      ]
    },
    {
      "cell_type": "code",
      "execution_count": 44,
      "metadata": {
        "id": "-LaBf3qVbqlP"
      },
      "outputs": [],
      "source": [
        "from scipy import stats\n",
        "\n",
        "def _wald_wolfowitz_runs(random_numbers: np.ndarray) -> tuple[np.ndarray, int, int]:\n",
        "    mean = random_numbers.mean()\n",
        "    # Positive and negative\n",
        "    positive = np.where(random_numbers > mean, 1, 0).sum()\n",
        "    negative = np.where(random_numbers <= mean, 1, 0).sum()\n",
        "    # Runs\n",
        "    runs_array = np.where(random_numbers > mean, 1, -1)\n",
        "    runs_array = np.split(\n",
        "        random_numbers, \n",
        "        np.where(np.diff(runs_array) != 0)[0] + 1\n",
        "    )\n",
        "    return runs_array, positive, negative\n",
        "\n",
        "def _wald_wolfowitz_z(total_runs: int, positive: int, negative: int) -> float:\n",
        "    total_random_numbers = positive + negative\n",
        "    mean = 2 * positive * negative / total_random_numbers + 1/2\n",
        "    variance = 2 * positive * negative * (2 * positive * negative - total_random_numbers)\n",
        "    variance /= total_random_numbers**2 * (total_random_numbers - 1)\n",
        "    z = (total_runs - mean) / np.sqrt(variance)\n",
        "    return z\n",
        "\n",
        "def runs_test(random_numbers: np.ndarray, alpha: float) -> None:\n",
        "    # Get runs\n",
        "    runs_array, positive, negative = _wald_wolfowitz_runs(random_numbers)    \n",
        "    z = _wald_wolfowitz_z(len(runs_array), positive, negative)\n",
        "\n",
        "    # Compute statistic Z\n",
        "    if alpha > 0.5:\n",
        "        raise ValueError(\"El valor de significancia debe ser menor o igual a 0.5\")\n",
        "    statistic = -stats.norm.ppf(alpha / 2)\n",
        "\n",
        "    # Print results\n",
        "    runs_text = \" \".join([str(run) for run in runs_array])\n",
        "    statistic_text = r\"$Z_{\\alpha/2}$\"\n",
        "    \n",
        "    print(f\"Rachas: {runs_text}\")\n",
        "    print_latex(f\"$b = {len(runs_array)}$ (cantidad de rachas)\")\n",
        "    print_latex(f\"$n_1 = {positive}$ (cantidad de números positivos)\")\n",
        "    print_latex(f\"$n_2 = {negative}$ (cantidad de números negativos)\")\n",
        "    print_latex(f\"{statistic_text} = {statistic}\")\n",
        "    print_latex(r\"$Z_0 = \\frac{b - \\mu_b}{\\sigma_b}\" + f\" = {z}$\")\n",
        "    \n",
        "    if np.abs(z) <= statistic:\n",
        "        print_latex(f\"-{statistic_text} $\\leq Z_0 \\leq$ {statistic_text} $\\\\Rightarrow$ La hipótesis se acepta.\")\n",
        "    elif z > 0:\n",
        "        print_latex(f\"$Z_0 >$ {statistic_text} $\\\\Rightarrow$ La hipótesis se rechaza.\")\n",
        "    elif z < 0:\n",
        "        print_latex(f\"$Z_0 <$ -{statistic_text} $\\\\Rightarrow$ La hipótesis se rechaza.\")"
      ]
    },
    {
      "attachments": {},
      "cell_type": "markdown",
      "metadata": {
        "id": "LWYbAAnSbqlP"
      },
      "source": [
        "#### Explicación del código\n",
        "- `_wald_wolfowitz_runs()` calcula las rachas $b$, la cantidad de números positivos $n_1$ y la cantidad de números negativos $n_2$. Recibe como parámetro la secuencia de números aleatorios (contenida en un arreglo).\n",
        "- `_wald_wolfowitz_z()` calcula el valor $Z_0 = \\frac{b - \\mu_b}{\\sigma_b}$ dado el número total de rachas $b$, la cantidad de números positivos $n_1$ y la cantidad de números negativos $n_2$.\n",
        "- `runs_test()` recibe una secuencia de números aleatorios (como un arreglo) y el valor de significancia $\\alpha$ (se calcula automaticamente el valor del estadístico $Z_{\\alpha / 2}$). Muestra en pantalla si la secuencia pasa el test de rachas.\n",
        "\n",
        "**Nota:** Para ejecutar el script debe llamarse a la función `runs_test()`. Las funciones `_wald_wolfowitz_runs()` y `_wald_wolfowitz_z()` estan pensadas unicamente para el funcionamiento interno del script, y no deberían ser ejecutadas por el usuario (por ese motivo, el nombre de estas funciones comienza con un [guión bajo](https://stackoverflow.com/questions/1547145/defining-private-module-functions-in-python)).\n",
        "\n",
        "#### Resolución de un ejercicio\n",
        "\n",
        "Comprobemos el funcionamiento del algoritmo con el siguiente ejercicio.\n",
        "\n",
        "**Enunciado:**\n",
        "\n",
        "Realice la prueba de rachas para los siguientes valores e indique si los mismos pasan la prueba de aleatoriedad.\n",
        "\n",
        "| 0.12 | 0.44 | 0.41 | 0.88 | 0.77 | 0.9 | 0.55 | 0.14 | 0.83 | 0.87 |\n",
        "|------|------|------|------|------|-----|------|------|------|------|\n",
        "\n",
        "$\\alpha = 0.05$\n",
        "\n",
        "$Z_{\\alpha / 2} = 1.96$\n",
        "\n",
        "**Respuesta:**\n",
        "\n",
        "A continuación, utilizamos el código presentado anteriormente para realizar el ejercicio. Para ello, debemos llamar a la función `runs_test()` con los datos requeridos: el arreglo con números aleatorios y el valor del estadístico."
      ]
    },
    {
      "cell_type": "code",
      "execution_count": 55,
      "metadata": {
        "colab": {
          "base_uri": "https://localhost:8080/",
          "height": 207
        },
        "id": "oIxJgWoZbqlP",
        "outputId": "aea5db27-b561-46b1-89b3-e85a7dce1e0b"
      },
      "outputs": [
        {
          "name": "stdout",
          "output_type": "stream",
          "text": [
            "Rachas: [0.12 0.44 0.41] [0.88 0.77 0.9 ] [0.55 0.14] [0.83 0.87]\n"
          ]
        },
        {
          "data": {
            "text/markdown": [
              "$b = 4$ (cantidad de rachas)"
            ],
            "text/plain": [
              "<IPython.core.display.Markdown object>"
            ]
          },
          "metadata": {},
          "output_type": "display_data"
        },
        {
          "data": {
            "text/markdown": [
              "$n_1 = 5$ (cantidad de números positivos)"
            ],
            "text/plain": [
              "<IPython.core.display.Markdown object>"
            ]
          },
          "metadata": {},
          "output_type": "display_data"
        },
        {
          "data": {
            "text/markdown": [
              "$n_2 = 5$ (cantidad de números negativos)"
            ],
            "text/plain": [
              "<IPython.core.display.Markdown object>"
            ]
          },
          "metadata": {},
          "output_type": "display_data"
        },
        {
          "data": {
            "text/markdown": [
              "$Z_{\\alpha/2}$ = 1.9599639845400545"
            ],
            "text/plain": [
              "<IPython.core.display.Markdown object>"
            ]
          },
          "metadata": {},
          "output_type": "display_data"
        },
        {
          "data": {
            "text/markdown": [
              "$Z_0 = \\frac{b - \\mu_b}{\\sigma_b} = -1.0062305898749053$"
            ],
            "text/plain": [
              "<IPython.core.display.Markdown object>"
            ]
          },
          "metadata": {},
          "output_type": "display_data"
        },
        {
          "data": {
            "text/markdown": [
              "-$Z_{\\alpha/2}$ $\\leq Z_0 \\leq$ $Z_{\\alpha/2}$ $\\Rightarrow$ La hipótesis se acepta."
            ],
            "text/plain": [
              "<IPython.core.display.Markdown object>"
            ]
          },
          "metadata": {},
          "output_type": "display_data"
        }
      ],
      "source": [
        "arr = np.array([0.12, 0.44, 0.41, 0.88, 0.77, 0.9, 0.55, 0.14, 0.83, 0.87])\n",
        "alpha = 0.05\n",
        "runs_test(arr, alpha)"
      ]
    },
    {
      "attachments": {},
      "cell_type": "markdown",
      "metadata": {
        "id": "H6FloUAIbqlQ"
      },
      "source": [
        "### Menú para la prueba de Rachas\n",
        "\n",
        "Como se pide en el ejercicio, se desarrolló un menú para que el usuario pueda indicar la cantidad de números aleatorios que se someterá a la prueba (el usuario no ingresará los números aleatorios, se generará la secuencia automáticamente) e ingrese el valor del estadístico de la tabla. \n",
        "\n",
        "**Nota:** para el correcto funcionamiento del código, se deben haber ejecutado las celdas que contienen la funciones `print_latex()` y `runs_test()`."
      ]
    },
    {
      "cell_type": "code",
      "execution_count": 48,
      "metadata": {
        "colab": {
          "base_uri": "https://localhost:8080/",
          "height": 329
        },
        "id": "mR-DdEq0bqlQ",
        "outputId": "dbdedd35-9a2e-4450-84df-5a98e62f609c"
      },
      "outputs": [
        {
          "name": "stdout",
          "output_type": "stream",
          "text": [
            "Ingrese la cantidad de números aleatorios: 10\n",
            "Ingrese la semilla: 44\n",
            "Ingrese el valor de significancia (alpha): 0.05\n",
            "Los números aleatorios generados son:\n",
            "[0.12256551 0.25811307 0.40577073 0.96918395 0.16231712 0.85729367\n",
            " 0.16304527 0.33796195 0.67772282 0.61653417]\n",
            "\n",
            "Rachas: [0.12256551 0.25811307 0.40577073] [0.96918395] [0.16231712] [0.85729367] [0.16304527 0.33796195] [0.67772282 0.61653417]\n"
          ]
        },
        {
          "data": {
            "text/markdown": [
              "$b = 6$ (cantidad de rachas)"
            ],
            "text/plain": [
              "<IPython.core.display.Markdown object>"
            ]
          },
          "metadata": {},
          "output_type": "display_data"
        },
        {
          "data": {
            "text/markdown": [
              "$n_1 = 4$ (cantidad de números positivos)"
            ],
            "text/plain": [
              "<IPython.core.display.Markdown object>"
            ]
          },
          "metadata": {},
          "output_type": "display_data"
        },
        {
          "data": {
            "text/markdown": [
              "$n_2 = 6$ (cantidad de números negativos)"
            ],
            "text/plain": [
              "<IPython.core.display.Markdown object>"
            ]
          },
          "metadata": {},
          "output_type": "display_data"
        },
        {
          "data": {
            "text/markdown": [
              "$Z_{\\alpha/2}$ = 1.9599639845400545"
            ],
            "text/plain": [
              "<IPython.core.display.Markdown object>"
            ]
          },
          "metadata": {},
          "output_type": "display_data"
        },
        {
          "data": {
            "text/markdown": [
              "$Z_0 = \\frac{b - \\mu_b}{\\sigma_b} = 0.49170755108038944$"
            ],
            "text/plain": [
              "<IPython.core.display.Markdown object>"
            ]
          },
          "metadata": {},
          "output_type": "display_data"
        },
        {
          "data": {
            "text/markdown": [
              "-$Z_{\\alpha/2}$ $\\leq Z_0 \\leq$ $Z_{\\alpha/2}$ $\\Rightarrow$ La hipótesis se acepta."
            ],
            "text/plain": [
              "<IPython.core.display.Markdown object>"
            ]
          },
          "metadata": {},
          "output_type": "display_data"
        }
      ],
      "source": [
        "def runs_test_menu() -> None:\n",
        "    # Get random numbers\n",
        "    n = int(input(\"Ingrese la cantidad de números aleatorios: \"))\n",
        "    seed = int(input(\"Ingrese la semilla: \"))\n",
        "    rng = np.random.default_rng(seed=seed)\n",
        "    random_numbers = rng.random(n)\n",
        "\n",
        "    # Get statistic\n",
        "    statistic = float(input(\"Ingrese el valor de significancia (alpha): \"))\n",
        "\n",
        "    # Run test\n",
        "    print(f\"Los números aleatorios generados son:\\n{random_numbers}\\n\")\n",
        "    runs_test(random_numbers, statistic)\n",
        "\n",
        "if __name__ == \"__main__\":\n",
        "    runs_test_menu()"
      ]
    }
  ],
  "metadata": {
    "colab": {
      "provenance": []
    },
    "kernelspec": {
      "display_name": "Python 3",
      "name": "python3"
    },
    "language_info": {
      "codemirror_mode": {
        "name": "ipython",
        "version": 3
      },
      "file_extension": ".py",
      "mimetype": "text/x-python",
      "name": "python",
      "nbconvert_exporter": "python",
      "pygments_lexer": "ipython3",
      "version": "3.11.2"
    }
  },
  "nbformat": 4,
  "nbformat_minor": 0
}
