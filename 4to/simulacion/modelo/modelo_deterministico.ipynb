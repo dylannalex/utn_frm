{
 "cells": [
  {
   "attachments": {},
   "cell_type": "markdown",
   "metadata": {},
   "source": [
    "# Ejercicio 1\n",
    "\n",
    "Se desea con la mínima inversion satisfacer la demanda de un producto en función del estudio del mercado realizado, considerando las siguientes condiciones de contorno\n",
    "\n",
    "- $y_0$ = stock inicial = 500\n",
    "- $y_{min}$ = stock mínimo = 85 $[A]$\n",
    "- _Precio_ = $\\$50$\n",
    "- $V$ = _ventas_ = $\\{10, 5, 20, 10, 15, 5, 8, 7, 10, 15, 20, 15\\}$\n",
    "- $De$ = _demora_ = $\\{5, 7, 3, 5, 10, 4, 3, 2, 8, 10, 5, 7\\}$\n",
    "  \n",
    "- Costo de Pedido = $800$\n",
    "- Costo de Mantenimiento = $15$ por Producto\n",
    "\n",
    "<img src=\"img/consigna1.png\" style=\"width: 30em; height: 20rem;\">"
   ]
  },
  {
   "cell_type": "code",
   "execution_count": 20,
   "metadata": {},
   "outputs": [],
   "source": [
    "# parameters\n",
    "k = 0.1\n",
    "ventas = (10, 5, 20, 10, 15, 5, 8, 7, 10, 15, 20, 15)\n",
    "De = (5, 7, 3, 5, 10, 4, 3, 2, 8, 10, 5, 7)\n",
    "meanDe = round(sum(De) / len(De))\n",
    "ymin = 85\n",
    "plazoDePedidos = 7 # diario(1), mensual(30), semanal(7) \n",
    "costoEnvio = 800 \n",
    "precioPorProducto = 50\n",
    "\n",
    "# initial values\n",
    "I = y0 = 500\n",
    "x0 = 67 # meanDe * sum(ventas) / len(ventas)\n",
    "v0 = 0"
   ]
  },
  {
   "cell_type": "code",
   "execution_count": 8,
   "metadata": {},
   "outputs": [],
   "source": [
    "def v(t: int):\n",
    "    if t == 0:\n",
    "        return v0\n",
    "    return ventas[(t % len(ventas))-1]\n",
    "\n",
    "def p(t: int):\n",
    "    if t % plazoDePedidos == 0:\n",
    "        return round(v(t) + k * (I - y(t)))\n",
    "    return round(v(t) + k * (I - y(t))) + p(t-1)\n",
    "\n",
    "def y(t: int):\n",
    "    if t == 0:\n",
    "        return y0\n",
    "    return y(t-1) + r(t) - v(t)\n",
    "\n",
    "def x(t):\n",
    "    if t == 0:\n",
    "        return x0\n",
    "    return x(t-1) + p(t) - r(t)"
   ]
  },
  {
   "attachments": {},
   "cell_type": "markdown",
   "metadata": {},
   "source": [
    "La ganancia la podemos calcular como los ingresos que generan las ventas menos los costos de envio:"
   ]
  },
  {
   "cell_type": "code",
   "execution_count": 21,
   "metadata": {},
   "outputs": [],
   "source": [
    "from math import ceil\n",
    "\n",
    "def ganancia(plazo: int) -> float:\n",
    "    \"\"\"Calcula la ganancia del modelo deterministico\n",
    "\n",
    "    Parameters\n",
    "    ----------\n",
    "    plazo : int\n",
    "        Tiempo final de la simulacion.\n",
    "    \"\"\"\n",
    "    sum_ventas = sum([v(t) for t in range(0, plazo)])\n",
    "    costo =  costoEnvio * ceil(plazo / plazoDePedidos)\n",
    "    return sum_ventas * precioPorProducto - costo"
   ]
  },
  {
   "attachments": {},
   "cell_type": "markdown",
   "metadata": {},
   "source": [
    "Por último, falta determinar $r(t)$. Hay que determinar la mejor estrategia de reposición para maximizar las ganancias: "
   ]
  },
  {
   "cell_type": "code",
   "execution_count": 15,
   "metadata": {},
   "outputs": [],
   "source": [
    "def r(t: int):\n",
    "    if t < meanDe:\n",
    "        return 0\n",
    "    return v(t - meanDe)"
   ]
  },
  {
   "attachments": {},
   "cell_type": "markdown",
   "metadata": {},
   "source": [
    "Finalmente, podemos visualizar el comportamiento de la simulación y analizar las ganancias:"
   ]
  },
  {
   "cell_type": "code",
   "execution_count": 16,
   "metadata": {},
   "outputs": [
    {
     "name": "stdout",
     "output_type": "stream",
     "text": [
      "t: 0\tvendido: 0\treposicion: 0\tpedido: 0\tx: 67\ty: 500\n",
      "t: 1\tvendido: 10\treposicion: 0\tpedido: 11\tx: 78\ty: 490\n",
      "t: 2\tvendido: 5\treposicion: 0\tpedido: 17\tx: 95\ty: 485\n",
      "t: 3\tvendido: 20\treposicion: 0\tpedido: 41\tx: 136\ty: 465\n",
      "t: 4\tvendido: 10\treposicion: 0\tpedido: 55\tx: 191\ty: 455\n",
      "t: 5\tvendido: 15\treposicion: 0\tpedido: 76\tx: 267\ty: 440\n",
      "t: 6\tvendido: 5\treposicion: 0\tpedido: 88\tx: 355\ty: 435\n",
      "t: 7\tvendido: 8\treposicion: 10\tpedido: 14\tx: 359\ty: 437\n",
      "t: 8\tvendido: 7\treposicion: 5\tpedido: 28\tx: 382\ty: 435\n",
      "t: 9\tvendido: 10\treposicion: 20\tpedido: 44\tx: 406\ty: 445\n",
      "t: 10\tvendido: 15\treposicion: 10\tpedido: 65\tx: 461\ty: 440\n",
      "t: 11\tvendido: 20\treposicion: 15\tpedido: 91\tx: 537\ty: 435\n",
      "t: 12\tvendido: 15\treposicion: 5\tpedido: 113\tx: 645\ty: 425\n",
      "t: 13\tvendido: 10\treposicion: 8\tpedido: 131\tx: 768\ty: 423\n",
      "t: 14\tvendido: 5\treposicion: 7\tpedido: 12\tx: 773\ty: 425\n",
      "t: 15\tvendido: 20\treposicion: 10\tpedido: 40\tx: 803\ty: 415\n",
      "t: 16\tvendido: 10\treposicion: 15\tpedido: 58\tx: 846\ty: 420\n",
      "t: 17\tvendido: 15\treposicion: 20\tpedido: 80\tx: 906\ty: 425\n",
      "t: 18\tvendido: 5\treposicion: 15\tpedido: 92\tx: 983\ty: 435\n",
      "t: 19\tvendido: 8\treposicion: 10\tpedido: 106\tx: 1079\ty: 437\n",
      "t: 20\tvendido: 7\treposicion: 5\tpedido: 120\tx: 1194\ty: 435\n",
      "t: 21\tvendido: 10\treposicion: 20\tpedido: 16\tx: 1190\ty: 445\n",
      "t: 22\tvendido: 15\treposicion: 10\tpedido: 37\tx: 1217\ty: 440\n",
      "t: 23\tvendido: 20\treposicion: 15\tpedido: 63\tx: 1265\ty: 435\n",
      "t: 24\tvendido: 15\treposicion: 5\tpedido: 85\tx: 1345\ty: 425\n",
      "t: 25\tvendido: 10\treposicion: 8\tpedido: 103\tx: 1440\ty: 423\n",
      "t: 26\tvendido: 5\treposicion: 7\tpedido: 115\tx: 1548\ty: 425\n",
      "t: 27\tvendido: 20\treposicion: 10\tpedido: 143\tx: 1681\ty: 415\n",
      "t: 28\tvendido: 10\treposicion: 15\tpedido: 18\tx: 1684\ty: 420\n",
      "t: 29\tvendido: 15\treposicion: 20\tpedido: 40\tx: 1704\ty: 425\n"
     ]
    }
   ],
   "source": [
    "for t in range(0, 30):\n",
    "    if y(t) < ymin:\n",
    "        raise ValueError(f\"y({t}) = {y(t)} < ymin\")\n",
    "    print(f\"t: {t}\\tvendido: {v(t)}\\treposicion: {r(t)}\\tpedido: {p(t)}\\tx: {x(t)}\\ty: {y(t)}\")\n"
   ]
  },
  {
   "attachments": {},
   "cell_type": "markdown",
   "metadata": {},
   "source": [
    "A continuación podemos calcular la ganancia:"
   ]
  },
  {
   "cell_type": "code",
   "execution_count": 22,
   "metadata": {},
   "outputs": [
    {
     "name": "stdout",
     "output_type": "stream",
     "text": [
      "t: 1\tganancia: -800\n",
      "t: 2\tganancia: -300\n",
      "t: 3\tganancia: -50\n",
      "t: 4\tganancia: 950\n",
      "t: 5\tganancia: 1450\n",
      "t: 6\tganancia: 2200\n",
      "t: 7\tganancia: 2450\n",
      "t: 8\tganancia: 2050\n",
      "t: 9\tganancia: 2400\n",
      "t: 10\tganancia: 2900\n",
      "t: 11\tganancia: 3650\n",
      "t: 12\tganancia: 4650\n",
      "t: 13\tganancia: 5400\n",
      "t: 14\tganancia: 5900\n",
      "t: 15\tganancia: 5350\n",
      "t: 16\tganancia: 6350\n",
      "t: 17\tganancia: 6850\n",
      "t: 18\tganancia: 7600\n",
      "t: 19\tganancia: 7850\n",
      "t: 20\tganancia: 8250\n",
      "t: 21\tganancia: 8600\n",
      "t: 22\tganancia: 8300\n",
      "t: 23\tganancia: 9050\n",
      "t: 24\tganancia: 10050\n",
      "t: 25\tganancia: 10800\n",
      "t: 26\tganancia: 11300\n",
      "t: 27\tganancia: 11550\n",
      "t: 28\tganancia: 12550\n",
      "t: 29\tganancia: 12250\n",
      "t: 30\tganancia: 13000\n",
      "t: 31\tganancia: 13250\n",
      "t: 32\tganancia: 13650\n",
      "t: 33\tganancia: 14000\n",
      "t: 34\tganancia: 14500\n",
      "t: 35\tganancia: 15250\n",
      "t: 36\tganancia: 15450\n",
      "t: 37\tganancia: 16200\n",
      "t: 38\tganancia: 16700\n",
      "t: 39\tganancia: 16950\n",
      "t: 40\tganancia: 17950\n",
      "t: 41\tganancia: 18450\n",
      "t: 42\tganancia: 19200\n",
      "t: 43\tganancia: 18650\n",
      "t: 44\tganancia: 19050\n",
      "t: 45\tganancia: 19400\n",
      "t: 46\tganancia: 19900\n",
      "t: 47\tganancia: 20650\n",
      "t: 48\tganancia: 21650\n",
      "t: 49\tganancia: 22400\n",
      "t: 50\tganancia: 22100\n",
      "t: 51\tganancia: 22350\n",
      "t: 52\tganancia: 23350\n",
      "t: 53\tganancia: 23850\n",
      "t: 54\tganancia: 24600\n",
      "t: 55\tganancia: 24850\n",
      "t: 56\tganancia: 25250\n",
      "t: 57\tganancia: 24800\n",
      "t: 58\tganancia: 25300\n",
      "t: 59\tganancia: 26050\n",
      "t: 60\tganancia: 27050\n",
      "t: 61\tganancia: 27800\n",
      "t: 62\tganancia: 28300\n",
      "t: 63\tganancia: 28550\n",
      "t: 64\tganancia: 28750\n",
      "t: 65\tganancia: 29250\n",
      "t: 66\tganancia: 30000\n",
      "t: 67\tganancia: 30250\n",
      "t: 68\tganancia: 30650\n",
      "t: 69\tganancia: 31000\n",
      "t: 70\tganancia: 31500\n",
      "t: 71\tganancia: 31450\n",
      "t: 72\tganancia: 32450\n",
      "t: 73\tganancia: 33200\n",
      "t: 74\tganancia: 33700\n",
      "t: 75\tganancia: 33950\n",
      "t: 76\tganancia: 34950\n",
      "t: 77\tganancia: 35450\n",
      "t: 78\tganancia: 35400\n",
      "t: 79\tganancia: 35650\n",
      "t: 80\tganancia: 36050\n",
      "t: 81\tganancia: 36400\n",
      "t: 82\tganancia: 36900\n",
      "t: 83\tganancia: 37650\n",
      "t: 84\tganancia: 38650\n",
      "t: 85\tganancia: 38600\n",
      "t: 86\tganancia: 39100\n",
      "t: 87\tganancia: 39350\n",
      "t: 88\tganancia: 40350\n",
      "t: 89\tganancia: 40850\n",
      "t: 90\tganancia: 41600\n",
      "t: 91\tganancia: 41850\n",
      "t: 92\tganancia: 41450\n",
      "t: 93\tganancia: 41800\n",
      "t: 94\tganancia: 42300\n",
      "t: 95\tganancia: 43050\n",
      "t: 96\tganancia: 44050\n",
      "t: 97\tganancia: 44800\n",
      "t: 98\tganancia: 45300\n",
      "t: 99\tganancia: 44750\n"
     ]
    }
   ],
   "source": [
    "for t in range(1, 100):\n",
    "    print(f\"t: {t}\\tganancia: {ganancia(t)}\")"
   ]
  }
 ],
 "metadata": {
  "kernelspec": {
   "display_name": "Python 3",
   "language": "python",
   "name": "python3"
  },
  "language_info": {
   "codemirror_mode": {
    "name": "ipython",
    "version": 3
   },
   "file_extension": ".py",
   "mimetype": "text/x-python",
   "name": "python",
   "nbconvert_exporter": "python",
   "pygments_lexer": "ipython3",
   "version": "3.11.2"
  },
  "orig_nbformat": 4
 },
 "nbformat": 4,
 "nbformat_minor": 2
}
